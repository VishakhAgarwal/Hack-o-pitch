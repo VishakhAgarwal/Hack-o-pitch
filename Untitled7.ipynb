{
  "nbformat": 4,
  "nbformat_minor": 0,
  "metadata": {
    "colab": {
      "provenance": [],
      "include_colab_link": true
    },
    "kernelspec": {
      "name": "python3",
      "display_name": "Python 3"
    },
    "language_info": {
      "name": "python"
    }
  },
  "cells": [
    {
      "cell_type": "markdown",
      "metadata": {
        "id": "view-in-github",
        "colab_type": "text"
      },
      "source": [
        "<a href=\"https://colab.research.google.com/github/VishakhAgarwal/Hack-o-pitch/blob/main/Untitled7.ipynb\" target=\"_parent\"><img src=\"https://colab.research.google.com/assets/colab-badge.svg\" alt=\"Open In Colab\"/></a>"
      ]
    },
    {
      "cell_type": "code",
      "execution_count": null,
      "metadata": {
        "id": "G1b71lZoIPys",
        "outputId": "7e5b2f5d-4188-4341-da0c-129e7298a26f",
        "colab": {
          "base_uri": "https://localhost:8080/"
        }
      },
      "outputs": [
        {
          "output_type": "stream",
          "name": "stdout",
          "text": [
            "Dummy dataset saved as: /content/dummy_dataset.csv\n"
          ]
        }
      ],
      "source": [
        "import random\n",
        "import datetime\n",
        "import csv\n",
        "\n",
        "# Set the initial timestamp\n",
        "timestamp = datetime.datetime(2023, 1, 1, 1, 0, 0)\n",
        "\n",
        "# Create an empty list to store the data points\n",
        "data_points = []\n",
        "\n",
        "# Generate 100 data points\n",
        "for _ in range(100):\n",
        "    # Format the timestamp in hh:mm:ss format\n",
        "    formatted_timestamp = timestamp.strftime(\"%H:%M:%S\")\n",
        "\n",
        "    # Generate a random value for DynamicCool_EnergyConsumption\n",
        "    dynamic_energy_consumption = random.uniform(10, 30)\n",
        "\n",
        "    # Add the data point to the list\n",
        "    data_points.append([formatted_timestamp, 30, dynamic_energy_consumption])\n",
        "\n",
        "    # Increment the timestamp by 30 minutes\n",
        "    timestamp += datetime.timedelta(minutes=30)\n",
        "\n",
        "# Define the CSV file path\n",
        "csv_file_path = '/content/dummy_dataset.csv'\n",
        "\n",
        "# Write the dummy dataset to a CSV file\n",
        "with open(csv_file_path, mode='w', newline='') as file:\n",
        "    writer = csv.writer(file)\n",
        "    writer.writerow(['timestamp', 'StaticCool_EnergyConsumption', 'DynamicCool_EnergyConsumption'])\n",
        "    writer.writerows(data_points)\n",
        "\n",
        "# Print the file path\n",
        "print(\"Dummy dataset saved as:\", csv_file_path)\n"
      ]
    },
    {
      "cell_type": "code",
      "source": [
        "import random\n",
        "import datetime\n",
        "import csv\n",
        "\n",
        "# Set the initial timestamp\n",
        "timestamp = datetime.datetime(2023, 1, 1, 0, 0, 0)\n",
        "\n",
        "# Create an empty list to store the data points\n",
        "data_points = []\n",
        "\n",
        "# Generate 100 data points\n",
        "for _ in range(100):\n",
        "    # Format the timestamp in hh:mm:ss format\n",
        "    formatted_timestamp = timestamp.strftime(\"%H:%M:%S\")\n",
        "\n",
        "    # Generate a random value for DynamicCool_EnergyConsumption\n",
        "    dynamic_energy_consumption = random.uniform(10, 30)\n",
        "\n",
        "    # Add the data point to the list\n",
        "    data_points.append([formatted_timestamp, 30, dynamic_energy_consumption])\n",
        "\n",
        "    # Increment the timestamp by 30 minutes\n",
        "    timestamp += datetime.timedelta(minutes=30)\n",
        "\n",
        "    # Stop generating data points at 23:30:00\n",
        "    if timestamp.hour == 23 and timestamp.minute == 30:\n",
        "        break\n",
        "\n",
        "# Define the CSV file path\n",
        "csv_file_path = '/content/dummy_dataset.csv'\n",
        "\n",
        "# Write the dummy dataset to a CSV file\n",
        "with open(csv_file_path, mode='w', newline='') as file:\n",
        "    writer = csv.writer(file)\n",
        "    writer.writerow(['timestamp', 'StaticCool_EnergyConsumption', 'DynamicCool_EnergyConsumption'])\n",
        "    writer.writerows(data_points)\n",
        "\n",
        "# Print the file path\n",
        "print(\"Dummy dataset saved as:\", csv_file_path)\n"
      ],
      "metadata": {
        "id": "e0x1bE9Dn-fg",
        "outputId": "949450b1-9fd2-4307-c85a-11448cff4872",
        "colab": {
          "base_uri": "https://localhost:8080/"
        }
      },
      "execution_count": null,
      "outputs": [
        {
          "output_type": "stream",
          "name": "stdout",
          "text": [
            "Dummy dataset saved as: /content/dummy_dataset.csv\n"
          ]
        }
      ]
    },
    {
      "cell_type": "code",
      "source": [
        "import random\n",
        "import datetime\n",
        "import csv\n",
        "\n",
        "# Set the initial timestamp\n",
        "timestamp = datetime.datetime(2023, 1, 1, 0, 0, 0)\n",
        "\n",
        "# Create an empty list to store the data points\n",
        "data_points = []\n",
        "\n",
        "# Generate data points for 30 days (48 points * 30)\n",
        "for _ in range(48 * 30):\n",
        "    # Format the timestamp in hh:mm:ss format\n",
        "    formatted_timestamp = timestamp.strftime(\"%H:%M:%S\")\n",
        "\n",
        "    # Generate a random value for DynamicCool_EnergyConsumption\n",
        "    dynamic_energy_consumption = random.uniform(10, 30)\n",
        "\n",
        "    # Add the data point to the list\n",
        "    data_points.append([formatted_timestamp, 30, dynamic_energy_consumption])\n",
        "\n",
        "    # Increment the timestamp by 30 minutes\n",
        "    timestamp += datetime.timedelta(minutes=30)\n",
        "\n",
        "# Define the CSV file path\n",
        "csv_file_path = '/content/dummy_dataset.csv'\n",
        "\n",
        "# Write the dummy dataset to a CSV file\n",
        "with open(csv_file_path, mode='w', newline='') as file:\n",
        "    writer = csv.writer(file)\n",
        "    writer.writerow(['timestamp', 'StaticCool_EnergyConsumption', 'DynamicCool_EnergyConsumption'])\n",
        "    writer.writerows(data_points)\n",
        "\n",
        "# Print the file path\n",
        "print(\"Dummy dataset saved as:\", csv_file_path)\n"
      ],
      "metadata": {
        "id": "cm5xutvUtyWX",
        "outputId": "cb2ff38d-ca0c-4b82-8d00-727e6ec13d05",
        "colab": {
          "base_uri": "https://localhost:8080/"
        }
      },
      "execution_count": null,
      "outputs": [
        {
          "output_type": "stream",
          "name": "stdout",
          "text": [
            "Dummy dataset saved as: /content/dummy_dataset.csv\n"
          ]
        }
      ]
    }
  ]
}